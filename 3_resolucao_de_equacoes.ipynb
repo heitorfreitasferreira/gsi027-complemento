{
 "cells": [
  {
   "cell_type": "markdown",
   "metadata": {},
   "source": [
    "# Método da Bisseção"
   ]
  },
  {
   "cell_type": "code",
   "execution_count": 2,
   "metadata": {},
   "outputs": [
    {
     "name": "stdout",
     "output_type": "stream",
     "text": [
      "\n",
      "\n",
      "A raiz aproximada é: 1.5213804244995117\n"
     ]
    }
   ],
   "source": [
    "from biblioteca.res_eqs import bissecao\n",
    "\n",
    "raiz = bissecao(lambda x: x**3 - x - 2, 1.0, 2.0, 1e-6)\n",
    "\n",
    "print(f\"\\n\\nA raiz aproximada é: {raiz}\")"
   ]
  },
  {
   "cell_type": "markdown",
   "metadata": {},
   "source": [
    "# Método das Cordas"
   ]
  },
  {
   "cell_type": "code",
   "execution_count": null,
   "metadata": {},
   "outputs": [],
   "source": []
  },
  {
   "cell_type": "markdown",
   "metadata": {},
   "source": [
    "# Método de Newtown"
   ]
  },
  {
   "cell_type": "code",
   "execution_count": 2,
   "metadata": {},
   "outputs": [
    {
     "name": "stdout",
     "output_type": "stream",
     "text": [
      "Método de Newton\n",
      " n      a        b       xn      f(xn)    erro\n",
      " 0   1.0000   2.0000   2.0000   4.0000  10.0000\n",
      " 1   1.0000   1.6364   1.6364   0.7454   0.3636\n",
      " 2   1.0000   1.5304   1.5304   0.0540   0.1060\n",
      " 3   1.0000   1.5214   1.5214   0.0004   0.0090\n",
      " 4   1.0000   1.5214   1.5214   0.0000   0.0001\n",
      " 5   1.0000   1.5214   1.5214   0.0000   0.0000\n",
      "\n",
      "A raiz aproximada é 1.5214\n",
      "\n",
      "\n",
      "\n",
      "A raiz aproximada é: 1.5213797068051675\n"
     ]
    }
   ],
   "source": [
    "from biblioteca.res_eqs import newton\n",
    "\n",
    "raiz = newton(lambda x: x**3 - x - 2, a=1.0, b=2.0, tol=1e-6)\n",
    "\n",
    "print(f\"\\n\\nA raiz aproximada é: {raiz}\")"
   ]
  }
 ],
 "metadata": {
  "kernelspec": {
   "display_name": ".venv",
   "language": "python",
   "name": "python3"
  },
  "language_info": {
   "codemirror_mode": {
    "name": "ipython",
    "version": 3
   },
   "file_extension": ".py",
   "mimetype": "text/x-python",
   "name": "python",
   "nbconvert_exporter": "python",
   "pygments_lexer": "ipython3",
   "version": "3.11.2"
  }
 },
 "nbformat": 4,
 "nbformat_minor": 2
}
